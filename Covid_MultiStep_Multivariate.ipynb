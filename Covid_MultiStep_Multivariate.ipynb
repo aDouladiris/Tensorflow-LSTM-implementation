{
  "nbformat": 4,
  "nbformat_minor": 0,
  "metadata": {
    "colab": {
      "name": "Covid MultiStep Multivariate.ipynb",
      "provenance": [],
      "collapsed_sections": [],
      "machine_shape": "hm"
    },
    "kernelspec": {
      "name": "python3",
      "display_name": "Python 3"
    },
    "accelerator": "GPU"
  },
  "cells": [
    {
      "cell_type": "code",
      "metadata": {
        "id": "KgCcohnaCBA5",
        "colab_type": "code",
        "colab": {}
      },
      "source": [
        "from google.colab import drive\n",
        "drive.mount('/content/gdrive')\n",
        "%tensorflow_version 2\n",
        "import tensorflow as tf\n",
        "tf.__version__\n",
        "# /content/gdrive/My Drive/Colab Notebooks/covid"
      ],
      "execution_count": null,
      "outputs": []
    },
    {
      "cell_type": "code",
      "metadata": {
        "id": "OBd23PRN6-az",
        "colab_type": "code",
        "colab": {
          "base_uri": "https://localhost:8080/",
          "height": 377
        },
        "outputId": "34479b6d-9554-4937-a340-092053092f54"
      },
      "source": [
        "from __future__ import absolute_import, division, print_function, unicode_literals\n",
        "import tensorflow as tf\n",
        "\n",
        "import matplotlib as mpl\n",
        "import matplotlib.pyplot as plt\n",
        "import numpy as np\n",
        "import os\n",
        "import pandas as pd\n",
        "import time\n",
        "\n",
        "mpl.rcParams['figure.figsize'] = (8, 6)\n",
        "mpl.rcParams['axes.grid'] = False\n",
        "\n",
        "PATH = 'data/time_series_covid19_deaths_global.csv'  # get the full path to the file.\n",
        "dataset = pd.read_csv(PATH)\n",
        "\n",
        "\n",
        "TARGET_SIZE = 30\n",
        "\n",
        "COUNTRY = 'Italy'\n",
        "tf.random.set_seed(13)\n",
        "\n",
        "dataset = dataset.transpose()\n",
        "\n",
        "dataset = dataset.drop([\"Province/State\", \"Lat\", \"Long\", ], axis=0)\n",
        "\n",
        "dataset.columns = dataset.iloc[0]\n",
        "\n",
        "dataset.drop(dataset.index[[0]], inplace=True)\n",
        "\n",
        "dataset = dataset[COUNTRY]\n",
        "\n",
        "dataset.plot(subplots=True)\n",
        "\n",
        "dataset.size\n",
        "\n",
        "TRAIN_SPLIT = 99\n",
        "\n",
        "TRAIN_SPLIT"
      ],
      "execution_count": 405,
      "outputs": [
        {
          "output_type": "execute_result",
          "data": {
            "text/plain": [
              "99"
            ]
          },
          "metadata": {
            "tags": []
          },
          "execution_count": 405
        },
        {
          "output_type": "display_data",
          "data": {
            "image/png": "[encoded data removed]",
            "text/plain": [
              "<Figure size 576x432 with 1 Axes>"
            ]
          },
          "metadata": {
            "tags": [],
            "needs_background": "light"
          }
        }
      ]
    },
    {
      "cell_type": "code",
      "metadata": {
        "id": "dL7JpF9GWgmS",
        "colab_type": "code",
        "colab": {}
      },
      "source": [
        "dataset_mean = dataset[:TRAIN_SPLIT].mean()\n",
        "dataset_std = dataset[:TRAIN_SPLIT].std()"
      ],
      "execution_count": 406,
      "outputs": []
    },
    {
      "cell_type": "code",
      "metadata": {
        "id": "dhl7k9YoW092",
        "colab_type": "code",
        "colab": {}
      },
      "source": [
        "# Let's standardize the data.\n",
        "dataset = (dataset-dataset_mean)/dataset_std"
      ],
      "execution_count": 407,
      "outputs": []
    },
    {
      "cell_type": "code",
      "metadata": {
        "id": "6OlcZkFMXM3J",
        "colab_type": "code",
        "colab": {}
      },
      "source": [
        "def univariate_data_train(dataset, start_index, end_index, history_size, target_size):\n",
        "  data = []\n",
        "  labels = []\n",
        "\n",
        "  start_index = start_index + history_size\n",
        "  \n",
        "  \n",
        "  if (start_index and end_index):\n",
        "    print(\"s: \", start_index)\n",
        "    print(\"e: \", end_index)\n",
        "    for i in range(start_index, end_index):\n",
        "      # Reshape data first iter example: data index from 0 to 20 and label is index 21\n",
        "      try:\n",
        "        indices = list(range(i-history_size, i))\n",
        "        data.append(list(dataset[i : (history_size+i) ]) )\n",
        "        labels.append(dataset[history_size+i+target_size])\n",
        "\n",
        "      except IndexError:\n",
        "          break\n",
        "\n",
        "\n",
        "\n",
        "  return np.array(data), np.array(labels)"
      ],
      "execution_count": 408,
      "outputs": []
    },
    {
      "cell_type": "code",
      "metadata": {
        "id": "lzV30LPqYbMP",
        "colab_type": "code",
        "colab": {}
      },
      "source": [
        "univariate_past_history = 20\n",
        "univariate_future_target = 0\n",
        "\n",
        "x_train_uni, y_train_uni = univariate_data_train(dataset, 0, TRAIN_SPLIT,\n",
        "                                           univariate_past_history,\n",
        "                                           univariate_future_target)\n",
        "print(\"vals\")\n",
        "x_val_uni, y_val_uni = univariate_data_train(dataset, TRAIN_SPLIT, dataset.size,\n",
        "                                       univariate_past_history,\n",
        "                                       univariate_future_target)"
      ],
      "execution_count": null,
      "outputs": []
    },
    {
      "cell_type": "code",
      "metadata": {
        "id": "-z862zB-aoBL",
        "colab_type": "code",
        "colab": {
          "base_uri": "https://localhost:8080/",
          "height": 153
        },
        "outputId": "dd3b8cdb-9d02-4189-beb7-c8f292b67251"
      },
      "source": [
        "print(x_train_uni.shape)\n",
        "print(y_train_uni.shape)"
      ],
      "execution_count": 367,
      "outputs": [
        {
          "output_type": "stream",
          "text": [
            "[27359 27682 27967 28236 28710 28884 29079 29315 29684 29958 30201 30395\n",
            " 30560 30739 30911 31106 31368 31610 31763 31908]\n",
            "32007\n",
            "[27682 27967 28236 28710 28884 29079 29315 29684 29958 30201 30395 30560\n",
            " 30739 30911 31106 31368 31610 31763 31908 32007]\n",
            "32169\n",
            "(79, 20)\n",
            "(79,)\n"
          ],
          "name": "stdout"
        }
      ]
    },
    {
      "cell_type": "code",
      "metadata": {
        "id": "Exx6tw_L65VQ",
        "colab_type": "code",
        "colab": {}
      },
      "source": [
        "x_val_uni = x_val_uni[:-1]"
      ],
      "execution_count": 410,
      "outputs": []
    },
    {
      "cell_type": "code",
      "metadata": {
        "id": "6WXL5ywmE6vv",
        "colab_type": "code",
        "colab": {}
      },
      "source": [
        "x_train_uni = np.reshape(x_train_uni, (79, 1, 20))\n",
        "y_train_uni = np.reshape(y_train_uni, (79, 1))\n",
        "x_val_uni = np.reshape(x_val_uni, (11, 1, 20))\n",
        "y_val_uni = np.reshape(y_val_uni, (11, 1))"
      ],
      "execution_count": 411,
      "outputs": []
    },
    {
      "cell_type": "code",
      "metadata": {
        "id": "hz33B6hxz4CW",
        "colab_type": "code",
        "colab": {
          "base_uri": "https://localhost:8080/",
          "height": 85
        },
        "outputId": "a6e0b0b6-475f-4aec-b685-f54793069d18"
      },
      "source": [
        "print(x_train_uni.shape)\n",
        "print(y_train_uni.shape)\n",
        "print(x_val_uni.shape)\n",
        "print(y_val_uni.shape)"
      ],
      "execution_count": 412,
      "outputs": [
        {
          "output_type": "stream",
          "text": [
            "(79, 1, 20)\n",
            "(79, 1)\n",
            "(11, 1, 20)\n",
            "(11, 1)\n"
          ],
          "name": "stdout"
        }
      ]
    },
    {
      "cell_type": "code",
      "metadata": {
        "id": "GYCb4iQ8IPyH",
        "colab_type": "code",
        "colab": {}
      },
      "source": [
        "BATCH_SIZE = 64\n",
        "\n",
        "BUFFER_SIZE = int(x_train_uni.shape[0]/BATCH_SIZE)\n",
        "\n",
        "\n",
        "train_univariate = tf.data.Dataset.from_tensor_slices((x_train_uni, y_train_uni))\n",
        "train_univariate = train_univariate.cache().shuffle(BUFFER_SIZE).batch(BATCH_SIZE).repeat()\n",
        "\n",
        "val_univariate = tf.data.Dataset.from_tensor_slices((x_val_uni, y_val_uni))\n",
        "val_univariate = val_univariate.batch(BATCH_SIZE).repeat()"
      ],
      "execution_count": 413,
      "outputs": []
    },
    {
      "cell_type": "code",
      "metadata": {
        "id": "IYD4DMWxzSeP",
        "colab_type": "code",
        "colab": {
          "base_uri": "https://localhost:8080/",
          "height": 85
        },
        "outputId": "ce60179f-e4bf-4320-afed-17ee698d7354"
      },
      "source": [
        "print(train_univariate)\n",
        "print(train_univariate)\n",
        "print(val_univariate)\n",
        "print(val_univariate)"
      ],
      "execution_count": 414,
      "outputs": [
        {
          "output_type": "stream",
          "text": [
            "<RepeatDataset shapes: ((None, 1, 20), (None, 1)), types: (tf.float64, tf.float64)>\n",
            "<RepeatDataset shapes: ((None, 1, 20), (None, 1)), types: (tf.float64, tf.float64)>\n",
            "<RepeatDataset shapes: ((None, 1, 20), (None, 1)), types: (tf.float64, tf.float64)>\n",
            "<RepeatDataset shapes: ((None, 1, 20), (None, 1)), types: (tf.float64, tf.float64)>\n"
          ],
          "name": "stdout"
        }
      ]
    },
    {
      "cell_type": "code",
      "metadata": {
        "id": "xORmAf2a8dms",
        "colab_type": "code",
        "colab": {
          "base_uri": "https://localhost:8080/",
          "height": 102
        },
        "outputId": "6a825db1-3165-4d5e-a0f6-9a2fbf3c809d"
      },
      "source": [
        "print(x_train_uni.shape)\n",
        "print(y_train_uni.shape)\n",
        "print(x_val_uni.shape)\n",
        "print(y_val_uni.shape)\n",
        "print(simple_lstm_model.input_shape)"
      ],
      "execution_count": 398,
      "outputs": [
        {
          "output_type": "stream",
          "text": [
            "(79, 1, 20)\n",
            "(79, 1)\n",
            "(11, 1, 20)\n",
            "(11, 1)\n",
            "(None, 79, 20)\n"
          ],
          "name": "stdout"
        }
      ]
    },
    {
      "cell_type": "code",
      "metadata": {
        "id": "C2veIDZc92T-",
        "colab_type": "code",
        "colab": {}
      },
      "source": [
        "simple_lstm_model = tf.keras.models.Sequential([\n",
        "    tf.keras.layers.LSTM(8, input_shape=x_train_uni.shape[-2:], return_sequences=True),\n",
        "    tf.keras.layers.LSTM(8),\n",
        "    tf.keras.layers.Dense(1)\n",
        "])\n",
        "\n",
        "simple_lstm_model.compile(optimizer='adam', loss='mae')"
      ],
      "execution_count": 420,
      "outputs": []
    },
    {
      "cell_type": "code",
      "metadata": {
        "id": "WrmCbGTl7sB9",
        "colab_type": "code",
        "colab": {
          "base_uri": "https://localhost:8080/",
          "height": 221
        },
        "outputId": "f23efa0b-027f-45a5-e9a8-aa97a25fe350"
      },
      "source": [
        "simple_lstm_model.summary()"
      ],
      "execution_count": 400,
      "outputs": [
        {
          "output_type": "stream",
          "text": [
            "Model: \"sequential_6\"\n",
            "_________________________________________________________________\n",
            "Layer (type)                 Output Shape              Param #   \n",
            "=================================================================\n",
            "lstm_6 (LSTM)                (None, 8)                 928       \n",
            "_________________________________________________________________\n",
            "dense_6 (Dense)              (None, 1)                 9         \n",
            "=================================================================\n",
            "Total params: 937\n",
            "Trainable params: 937\n",
            "Non-trainable params: 0\n",
            "_________________________________________________________________\n"
          ],
          "name": "stdout"
        }
      ]
    },
    {
      "cell_type": "code",
      "metadata": {
        "id": "zd_c3JMAIWI1",
        "colab_type": "code",
        "colab": {
          "base_uri": "https://localhost:8080/",
          "height": 1000
        },
        "outputId": "5d5eeb5c-3c2c-4031-a4c1-df07ad586f6a"
      },
      "source": [
        "EVALUATION_INTERVAL = 200\n",
        "EPOCHS = 100\n",
        "\n",
        "simple_lstm_model.fit(train_univariate, epochs=EPOCHS,\n",
        "                      steps_per_epoch=EVALUATION_INTERVAL,\n",
        "                      validation_data=val_univariate, validation_steps=50)                              "
      ],
      "execution_count": 421,
      "outputs": [
        {
          "output_type": "stream",
          "text": [
            "Epoch 1/100\n",
            "200/200 [==============================] - 1s 6ms/step - loss: 0.6722 - val_loss: 0.3472\n",
            "Epoch 2/100\n",
            "200/200 [==============================] - 1s 4ms/step - loss: 0.1788 - val_loss: 0.1403\n",
            "Epoch 3/100\n",
            "200/200 [==============================] - 1s 4ms/step - loss: 0.0839 - val_loss: 0.1024\n",
            "Epoch 4/100\n",
            "200/200 [==============================] - 1s 4ms/step - loss: 0.0404 - val_loss: 0.0728\n",
            "Epoch 5/100\n",
            "200/200 [==============================] - 1s 4ms/step - loss: 0.0160 - val_loss: 0.0637\n",
            "Epoch 6/100\n",
            "200/200 [==============================] - 1s 4ms/step - loss: 0.0096 - val_loss: 0.0504\n",
            "Epoch 7/100\n",
            "200/200 [==============================] - 1s 4ms/step - loss: 0.0083 - val_loss: 0.0449\n",
            "Epoch 8/100\n",
            "200/200 [==============================] - 1s 4ms/step - loss: 0.0080 - val_loss: 0.0431\n",
            "Epoch 9/100\n",
            "200/200 [==============================] - 1s 4ms/step - loss: 0.0077 - val_loss: 0.0353\n",
            "Epoch 10/100\n",
            "200/200 [==============================] - 1s 4ms/step - loss: 0.0078 - val_loss: 0.0335\n",
            "Epoch 11/100\n",
            "200/200 [==============================] - 1s 4ms/step - loss: 0.0074 - val_loss: 0.0366\n",
            "Epoch 12/100\n",
            "200/200 [==============================] - 1s 4ms/step - loss: 0.0076 - val_loss: 0.0347\n",
            "Epoch 13/100\n",
            "200/200 [==============================] - 1s 4ms/step - loss: 0.0073 - val_loss: 0.0380\n",
            "Epoch 14/100\n",
            "200/200 [==============================] - 1s 4ms/step - loss: 0.0071 - val_loss: 0.0327\n",
            "Epoch 15/100\n",
            "200/200 [==============================] - 1s 4ms/step - loss: 0.0070 - val_loss: 0.0333\n",
            "Epoch 16/100\n",
            "200/200 [==============================] - 1s 4ms/step - loss: 0.0069 - val_loss: 0.0373\n",
            "Epoch 17/100\n",
            "200/200 [==============================] - 1s 4ms/step - loss: 0.0068 - val_loss: 0.0321\n",
            "Epoch 18/100\n",
            "200/200 [==============================] - 1s 4ms/step - loss: 0.0067 - val_loss: 0.0308\n",
            "Epoch 19/100\n",
            "200/200 [==============================] - 1s 4ms/step - loss: 0.0066 - val_loss: 0.0362\n",
            "Epoch 20/100\n",
            "200/200 [==============================] - 1s 4ms/step - loss: 0.0065 - val_loss: 0.0293\n",
            "Epoch 21/100\n",
            "200/200 [==============================] - 1s 4ms/step - loss: 0.0064 - val_loss: 0.0316\n",
            "Epoch 22/100\n",
            "200/200 [==============================] - 1s 4ms/step - loss: 0.0063 - val_loss: 0.0362\n",
            "Epoch 23/100\n",
            "200/200 [==============================] - 1s 4ms/step - loss: 0.0063 - val_loss: 0.0266\n",
            "Epoch 24/100\n",
            "200/200 [==============================] - 1s 4ms/step - loss: 0.0062 - val_loss: 0.0298\n",
            "Epoch 25/100\n",
            "200/200 [==============================] - 1s 4ms/step - loss: 0.0061 - val_loss: 0.0339\n",
            "Epoch 26/100\n",
            "200/200 [==============================] - 1s 4ms/step - loss: 0.0060 - val_loss: 0.0239\n",
            "Epoch 27/100\n",
            "200/200 [==============================] - 1s 4ms/step - loss: 0.0059 - val_loss: 0.0261\n",
            "Epoch 28/100\n",
            "200/200 [==============================] - 1s 4ms/step - loss: 0.0059 - val_loss: 0.0334\n",
            "Epoch 29/100\n",
            "200/200 [==============================] - 1s 4ms/step - loss: 0.0058 - val_loss: 0.0240\n",
            "Epoch 30/100\n",
            "200/200 [==============================] - 1s 4ms/step - loss: 0.0058 - val_loss: 0.0260\n",
            "Epoch 31/100\n",
            "200/200 [==============================] - 1s 4ms/step - loss: 0.0057 - val_loss: 0.0300\n",
            "Epoch 32/100\n",
            "200/200 [==============================] - 1s 4ms/step - loss: 0.0056 - val_loss: 0.0216\n",
            "Epoch 33/100\n",
            "200/200 [==============================] - 1s 4ms/step - loss: 0.0056 - val_loss: 0.0225\n",
            "Epoch 34/100\n",
            "200/200 [==============================] - 1s 4ms/step - loss: 0.0055 - val_loss: 0.0261\n",
            "Epoch 35/100\n",
            "200/200 [==============================] - 1s 4ms/step - loss: 0.0055 - val_loss: 0.0208\n",
            "Epoch 36/100\n",
            "200/200 [==============================] - 1s 4ms/step - loss: 0.0055 - val_loss: 0.0202\n",
            "Epoch 37/100\n",
            "200/200 [==============================] - 1s 4ms/step - loss: 0.0054 - val_loss: 0.0266\n",
            "Epoch 38/100\n",
            "200/200 [==============================] - 1s 4ms/step - loss: 0.0054 - val_loss: 0.0298\n",
            "Epoch 39/100\n",
            "200/200 [==============================] - 1s 4ms/step - loss: 0.0053 - val_loss: 0.0179\n",
            "Epoch 40/100\n",
            "200/200 [==============================] - 1s 4ms/step - loss: 0.0053 - val_loss: 0.0166\n",
            "Epoch 41/100\n",
            "200/200 [==============================] - 1s 4ms/step - loss: 0.0052 - val_loss: 0.0182\n",
            "Epoch 42/100\n",
            "200/200 [==============================] - 1s 4ms/step - loss: 0.0052 - val_loss: 0.0232\n",
            "Epoch 43/100\n",
            "200/200 [==============================] - 1s 4ms/step - loss: 0.0052 - val_loss: 0.0166\n",
            "Epoch 44/100\n",
            "200/200 [==============================] - 1s 4ms/step - loss: 0.0051 - val_loss: 0.0099\n",
            "Epoch 45/100\n",
            "200/200 [==============================] - 1s 4ms/step - loss: 0.0051 - val_loss: 0.0214\n",
            "Epoch 46/100\n",
            "200/200 [==============================] - 1s 4ms/step - loss: 0.0051 - val_loss: 0.0190\n",
            "Epoch 47/100\n",
            "200/200 [==============================] - 1s 4ms/step - loss: 0.0050 - val_loss: 0.0237\n",
            "Epoch 48/100\n",
            "200/200 [==============================] - 1s 4ms/step - loss: 0.0050 - val_loss: 0.0119\n",
            "Epoch 49/100\n",
            "200/200 [==============================] - 1s 4ms/step - loss: 0.0050 - val_loss: 0.0135\n",
            "Epoch 50/100\n",
            "200/200 [==============================] - 1s 4ms/step - loss: 0.0050 - val_loss: 0.0155\n",
            "Epoch 51/100\n",
            "200/200 [==============================] - 1s 4ms/step - loss: 0.0048 - val_loss: 0.0196\n",
            "Epoch 52/100\n",
            "200/200 [==============================] - 1s 4ms/step - loss: 0.0049 - val_loss: 0.0194\n",
            "Epoch 53/100\n",
            "200/200 [==============================] - 1s 4ms/step - loss: 0.0049 - val_loss: 0.0100\n",
            "Epoch 54/100\n",
            "200/200 [==============================] - 1s 4ms/step - loss: 0.0048 - val_loss: 0.0169\n",
            "Epoch 55/100\n",
            "200/200 [==============================] - 1s 4ms/step - loss: 0.0049 - val_loss: 0.0165\n",
            "Epoch 56/100\n",
            "200/200 [==============================] - 1s 4ms/step - loss: 0.0049 - val_loss: 0.0100\n",
            "Epoch 57/100\n",
            "200/200 [==============================] - 1s 4ms/step - loss: 0.0047 - val_loss: 0.0103\n",
            "Epoch 58/100\n",
            "200/200 [==============================] - 1s 4ms/step - loss: 0.0048 - val_loss: 0.0107\n",
            "Epoch 59/100\n",
            "200/200 [==============================] - 1s 4ms/step - loss: 0.0046 - val_loss: 0.0088\n",
            "Epoch 60/100\n",
            "200/200 [==============================] - 1s 4ms/step - loss: 0.0044 - val_loss: 0.0127\n",
            "Epoch 61/100\n",
            "200/200 [==============================] - 1s 4ms/step - loss: 0.0048 - val_loss: 0.0114\n",
            "Epoch 62/100\n",
            "200/200 [==============================] - 1s 4ms/step - loss: 0.0046 - val_loss: 0.0064\n",
            "Epoch 63/100\n",
            "200/200 [==============================] - 1s 4ms/step - loss: 0.0046 - val_loss: 0.0099\n",
            "Epoch 64/100\n",
            "200/200 [==============================] - 1s 4ms/step - loss: 0.0046 - val_loss: 0.0096\n",
            "Epoch 65/100\n",
            "200/200 [==============================] - 1s 4ms/step - loss: 0.0047 - val_loss: 0.0137\n",
            "Epoch 66/100\n",
            "200/200 [==============================] - 1s 4ms/step - loss: 0.0048 - val_loss: 0.0152\n",
            "Epoch 67/100\n",
            "200/200 [==============================] - 1s 4ms/step - loss: 0.0047 - val_loss: 0.0078\n",
            "Epoch 68/100\n",
            "200/200 [==============================] - 1s 4ms/step - loss: 0.0046 - val_loss: 0.0124\n",
            "Epoch 69/100\n",
            "200/200 [==============================] - 1s 4ms/step - loss: 0.0042 - val_loss: 0.0083\n",
            "Epoch 70/100\n",
            "200/200 [==============================] - 1s 4ms/step - loss: 0.0047 - val_loss: 0.0097\n",
            "Epoch 71/100\n",
            "200/200 [==============================] - 1s 4ms/step - loss: 0.0046 - val_loss: 0.0063\n",
            "Epoch 72/100\n",
            "200/200 [==============================] - 1s 4ms/step - loss: 0.0045 - val_loss: 0.0148\n",
            "Epoch 73/100\n",
            "200/200 [==============================] - 1s 4ms/step - loss: 0.0045 - val_loss: 0.0089\n",
            "Epoch 74/100\n",
            "200/200 [==============================] - 1s 4ms/step - loss: 0.0046 - val_loss: 0.0056\n",
            "Epoch 75/100\n",
            "200/200 [==============================] - 1s 4ms/step - loss: 0.0049 - val_loss: 0.0160\n",
            "Epoch 76/100\n",
            "200/200 [==============================] - 1s 4ms/step - loss: 0.0043 - val_loss: 0.0070\n",
            "Epoch 77/100\n",
            "200/200 [==============================] - 1s 4ms/step - loss: 0.0043 - val_loss: 0.0082\n",
            "Epoch 78/100\n",
            "200/200 [==============================] - 1s 4ms/step - loss: 0.0044 - val_loss: 0.0140\n",
            "Epoch 79/100\n",
            "200/200 [==============================] - 1s 4ms/step - loss: 0.0043 - val_loss: 0.0074\n",
            "Epoch 80/100\n",
            "200/200 [==============================] - 1s 4ms/step - loss: 0.0046 - val_loss: 0.0088\n",
            "Epoch 81/100\n",
            "200/200 [==============================] - 1s 4ms/step - loss: 0.0044 - val_loss: 0.0120\n",
            "Epoch 82/100\n",
            "200/200 [==============================] - 1s 4ms/step - loss: 0.0046 - val_loss: 0.0081\n",
            "Epoch 83/100\n",
            "200/200 [==============================] - 1s 4ms/step - loss: 0.0042 - val_loss: 0.0115\n",
            "Epoch 84/100\n",
            "200/200 [==============================] - 1s 4ms/step - loss: 0.0045 - val_loss: 0.0074\n",
            "Epoch 85/100\n",
            "200/200 [==============================] - 1s 4ms/step - loss: 0.0046 - val_loss: 0.0067\n",
            "Epoch 86/100\n",
            "200/200 [==============================] - 1s 4ms/step - loss: 0.0044 - val_loss: 0.0057\n",
            "Epoch 87/100\n",
            "200/200 [==============================] - 1s 4ms/step - loss: 0.0044 - val_loss: 0.0132\n",
            "Epoch 88/100\n",
            "200/200 [==============================] - 1s 4ms/step - loss: 0.0046 - val_loss: 0.0064\n",
            "Epoch 89/100\n",
            "200/200 [==============================] - 1s 4ms/step - loss: 0.0044 - val_loss: 0.0054\n",
            "Epoch 90/100\n",
            "200/200 [==============================] - 1s 4ms/step - loss: 0.0042 - val_loss: 0.0055\n",
            "Epoch 91/100\n",
            "200/200 [==============================] - 1s 4ms/step - loss: 0.0044 - val_loss: 0.0075\n",
            "Epoch 92/100\n",
            "200/200 [==============================] - 1s 4ms/step - loss: 0.0041 - val_loss: 0.0105\n",
            "Epoch 93/100\n",
            "200/200 [==============================] - 1s 4ms/step - loss: 0.0044 - val_loss: 0.0089\n",
            "Epoch 94/100\n",
            "200/200 [==============================] - 1s 4ms/step - loss: 0.0043 - val_loss: 0.0062\n",
            "Epoch 95/100\n",
            "200/200 [==============================] - 1s 4ms/step - loss: 0.0043 - val_loss: 0.0111\n",
            "Epoch 96/100\n",
            "200/200 [==============================] - 1s 4ms/step - loss: 0.0042 - val_loss: 0.0062\n",
            "Epoch 97/100\n",
            "200/200 [==============================] - 1s 4ms/step - loss: 0.0043 - val_loss: 0.0061\n",
            "Epoch 98/100\n",
            "200/200 [==============================] - 1s 4ms/step - loss: 0.0042 - val_loss: 0.0134\n",
            "Epoch 99/100\n",
            "200/200 [==============================] - 1s 4ms/step - loss: 0.0045 - val_loss: 0.0070\n",
            "Epoch 100/100\n",
            "200/200 [==============================] - 1s 4ms/step - loss: 0.0040 - val_loss: 0.0057\n"
          ],
          "name": "stdout"
        },
        {
          "output_type": "execute_result",
          "data": {
            "text/plain": [
              "<tensorflow.python.keras.callbacks.History at 0x7f83cb65a080>"
            ]
          },
          "metadata": {
            "tags": []
          },
          "execution_count": 421
        }
      ]
    }
  ]
}